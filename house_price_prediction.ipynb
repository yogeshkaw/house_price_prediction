{
  "nbformat": 4,
  "nbformat_minor": 0,
  "metadata": {
    "colab": {
      "name": "house price prediction.ipynb",
      "version": "0.3.2",
      "provenance": []
    },
    "kernelspec": {
      "display_name": "Python 3",
      "language": "python",
      "name": "python3"
    }
  },
  "cells": [
    {
      "metadata": {
        "id": "-99i36C-jmsb",
        "colab_type": "code",
        "outputId": "9407f6b8-f449-4660-93f7-85ed8086fe95",
        "colab": {}
      },
      "cell_type": "code",
      "source": [
        "\"\"\"House price prediction syatem\"\"\"\n",
        "#acquire knowledge from data using knowledge Discovery Process\n",
        "# Step 1 -> Data collection and selection\n",
        "\n",
        "# Read a multi Dimension data from a source in your notebook for analysis \n",
        "# Multi D mean : data respresented in rows and columns\n",
        "\n",
        "# In data, rows are known as observation  and columns are known as variables \n",
        "\n",
        "#to read multi D data in python we use pandas lib. Pandas \n",
        "#provides a 2D size mutabledata structure known as DataFrame"
      ],
      "execution_count": 0,
      "outputs": [
        {
          "output_type": "execute_result",
          "data": {
            "text/plain": [
              "'House price prediction syatem'"
            ]
          },
          "metadata": {
            "tags": []
          },
          "execution_count": 1
        }
      ]
    },
    {
      "metadata": {
        "id": "nhZbnrDnjmsl",
        "colab_type": "code",
        "colab": {}
      },
      "cell_type": "code",
      "source": [
        "# Read the data and show in a dataframe using pandas\n",
        "import pandas as pd"
      ],
      "execution_count": 0,
      "outputs": []
    },
    {
      "metadata": {
        "id": "hVrK_NJPjmss",
        "colab_type": "code",
        "outputId": "e42c42b5-acd2-4c7a-baba-798a76dbd85e",
        "colab": {
          "base_uri": "https://localhost:8080/",
          "height": 204
        }
      },
      "cell_type": "code",
      "source": [
        "# Read the data file from a source\n",
        "house_data=pd.read_csv('http://hackveda.in/sistec/Housing_Modified.csv')\n",
        "house_data.head()"
      ],
      "execution_count": 0,
      "outputs": [
        {
          "output_type": "execute_result",
          "data": {
            "text/html": [
              "<div>\n",
              "<style scoped>\n",
              "    .dataframe tbody tr th:only-of-type {\n",
              "        vertical-align: middle;\n",
              "    }\n",
              "\n",
              "    .dataframe tbody tr th {\n",
              "        vertical-align: top;\n",
              "    }\n",
              "\n",
              "    .dataframe thead th {\n",
              "        text-align: right;\n",
              "    }\n",
              "</style>\n",
              "<table border=\"1\" class=\"dataframe\">\n",
              "  <thead>\n",
              "    <tr style=\"text-align: right;\">\n",
              "      <th></th>\n",
              "      <th>price</th>\n",
              "      <th>lotsize</th>\n",
              "      <th>bedrooms</th>\n",
              "      <th>bathrms</th>\n",
              "      <th>stories</th>\n",
              "      <th>driveway</th>\n",
              "      <th>recroom</th>\n",
              "      <th>fullbase</th>\n",
              "      <th>gashw</th>\n",
              "      <th>airco</th>\n",
              "      <th>garagepl</th>\n",
              "      <th>prefarea</th>\n",
              "    </tr>\n",
              "  </thead>\n",
              "  <tbody>\n",
              "    <tr>\n",
              "      <th>0</th>\n",
              "      <td>42000.0</td>\n",
              "      <td>5850</td>\n",
              "      <td>3</td>\n",
              "      <td>1</td>\n",
              "      <td>two</td>\n",
              "      <td>yes</td>\n",
              "      <td>no</td>\n",
              "      <td>yes</td>\n",
              "      <td>no</td>\n",
              "      <td>no</td>\n",
              "      <td>1</td>\n",
              "      <td>no</td>\n",
              "    </tr>\n",
              "    <tr>\n",
              "      <th>1</th>\n",
              "      <td>38500.0</td>\n",
              "      <td>4000</td>\n",
              "      <td>2</td>\n",
              "      <td>1</td>\n",
              "      <td>one</td>\n",
              "      <td>yes</td>\n",
              "      <td>no</td>\n",
              "      <td>no</td>\n",
              "      <td>no</td>\n",
              "      <td>no</td>\n",
              "      <td>0</td>\n",
              "      <td>no</td>\n",
              "    </tr>\n",
              "    <tr>\n",
              "      <th>2</th>\n",
              "      <td>49500.0</td>\n",
              "      <td>3060</td>\n",
              "      <td>3</td>\n",
              "      <td>1</td>\n",
              "      <td>one</td>\n",
              "      <td>yes</td>\n",
              "      <td>no</td>\n",
              "      <td>no</td>\n",
              "      <td>no</td>\n",
              "      <td>no</td>\n",
              "      <td>0</td>\n",
              "      <td>no</td>\n",
              "    </tr>\n",
              "    <tr>\n",
              "      <th>3</th>\n",
              "      <td>60500.0</td>\n",
              "      <td>6650</td>\n",
              "      <td>3</td>\n",
              "      <td>1</td>\n",
              "      <td>two</td>\n",
              "      <td>yes</td>\n",
              "      <td>yes</td>\n",
              "      <td>no</td>\n",
              "      <td>no</td>\n",
              "      <td>no</td>\n",
              "      <td>0</td>\n",
              "      <td>no</td>\n",
              "    </tr>\n",
              "    <tr>\n",
              "      <th>4</th>\n",
              "      <td>61000.0</td>\n",
              "      <td>6360</td>\n",
              "      <td>2</td>\n",
              "      <td>1</td>\n",
              "      <td>one</td>\n",
              "      <td>yes</td>\n",
              "      <td>no</td>\n",
              "      <td>no</td>\n",
              "      <td>no</td>\n",
              "      <td>no</td>\n",
              "      <td>0</td>\n",
              "      <td>no</td>\n",
              "    </tr>\n",
              "  </tbody>\n",
              "</table>\n",
              "</div>"
            ],
            "text/plain": [
              "     price  lotsize  bedrooms  bathrms stories driveway recroom fullbase  \\\n",
              "0  42000.0     5850         3        1     two      yes      no      yes   \n",
              "1  38500.0     4000         2        1     one      yes      no       no   \n",
              "2  49500.0     3060         3        1     one      yes      no       no   \n",
              "3  60500.0     6650         3        1     two      yes     yes       no   \n",
              "4  61000.0     6360         2        1     one      yes      no       no   \n",
              "\n",
              "  gashw airco  garagepl prefarea  \n",
              "0    no    no         1       no  \n",
              "1    no    no         0       no  \n",
              "2    no    no         0       no  \n",
              "3    no    no         0       no  \n",
              "4    no    no         0       no  "
            ]
          },
          "metadata": {
            "tags": []
          },
          "execution_count": 2
        }
      ]
    },
    {
      "metadata": {
        "id": "wrPANHEUjms0",
        "colab_type": "code",
        "outputId": "f7a6240a-a120-4cf0-8f3b-dfd1a4e8b15a",
        "colab": {
          "base_uri": "https://localhost:8080/",
          "height": 34
        }
      },
      "cell_type": "code",
      "source": [
        "# Shape\n",
        "house_data.shape"
      ],
      "execution_count": 0,
      "outputs": [
        {
          "output_type": "execute_result",
          "data": {
            "text/plain": [
              "(546, 12)"
            ]
          },
          "metadata": {
            "tags": []
          },
          "execution_count": 3
        }
      ]
    },
    {
      "metadata": {
        "id": "2uitX7H1jms-",
        "colab_type": "code",
        "colab": {}
      },
      "cell_type": "code",
      "source": [
        "# Data Selection"
      ],
      "execution_count": 0,
      "outputs": []
    },
    {
      "metadata": {
        "id": "NLhTrp30jmtD",
        "colab_type": "code",
        "outputId": "06553b62-d285-4902-ed83-0379eb1e9818",
        "colab": {
          "base_uri": "https://localhost:8080/",
          "height": 68
        }
      },
      "cell_type": "code",
      "source": [
        "#check the columns\n",
        "house_data.columns"
      ],
      "execution_count": 0,
      "outputs": [
        {
          "output_type": "execute_result",
          "data": {
            "text/plain": [
              "Index(['price', 'lotsize', 'bedrooms', 'bathrms', 'stories', 'driveway',\n",
              "       'recroom', 'fullbase', 'gashw', 'airco', 'garagepl', 'prefarea'],\n",
              "      dtype='object')"
            ]
          },
          "metadata": {
            "tags": []
          },
          "execution_count": 4
        }
      ]
    },
    {
      "metadata": {
        "id": "dscLQCEfjmtK",
        "colab_type": "code",
        "outputId": "262b2cdb-4b79-4620-c1db-212ffcf4f75f",
        "colab": {
          "base_uri": "https://localhost:8080/",
          "height": 364
        }
      },
      "cell_type": "code",
      "source": [
        "# Plot Graph\n",
        "house_data.plot()"
      ],
      "execution_count": 0,
      "outputs": [
        {
          "output_type": "execute_result",
          "data": {
            "text/plain": [
              "<matplotlib.axes._subplots.AxesSubplot at 0x7f3c065710f0>"
            ]
          },
          "metadata": {
            "tags": []
          },
          "execution_count": 5
        },
        {
          "output_type": "display_data",
          "data": {
            "image/png": "[encoded data removed]",
            "text/plain": [
              "<Figure size 576x396 with 1 Axes>"
            ]
          },
          "metadata": {
            "tags": []
          }
        }
      ]
    },
    {
      "metadata": {
        "id": "KAQX6Z_sjmtQ",
        "colab_type": "code",
        "outputId": "159668c9-d3d4-41fb-b92b-a615b1a90720",
        "colab": {
          "base_uri": "https://localhost:8080/",
          "height": 364
        }
      },
      "cell_type": "code",
      "source": [
        "# compare price with lotsize\n",
        "# Represent lotsize on x_axis. \n",
        "#Convert series into array via values keyword \n",
        "x=house_data['lotsize'].values\n",
        "y=house_data['price'].values\n",
        "\n",
        "# Plot x vs y \n",
        "import matplotlib.pyplot as plt\n",
        "plt.plot(x,y)\n",
        "\n"
      ],
      "execution_count": 0,
      "outputs": [
        {
          "output_type": "execute_result",
          "data": {
            "text/plain": [
              "[<matplotlib.lines.Line2D at 0x7f3c04485e10>]"
            ]
          },
          "metadata": {
            "tags": []
          },
          "execution_count": 6
        },
        {
          "output_type": "display_data",
          "data": {
            "image/png": "[encoded data removed]",
            "text/plain": [
              "<Figure size 576x396 with 1 Axes>"
            ]
          },
          "metadata": {
            "tags": []
          }
        }
      ]
    },
    {
      "metadata": {
        "id": "pF45nqjSjmtW",
        "colab_type": "code",
        "outputId": "2e0aebda-f447-4317-dd7c-d636f09f6e21",
        "colab": {
          "base_uri": "https://localhost:8080/",
          "height": 204
        }
      },
      "cell_type": "code",
      "source": [
        "# Calculate the correlation b/w price and lotsize\n",
        "# co relation values from -1 to 1\n",
        "#  Always consider higly +ive and -ve influences in predection\n",
        "# above .8 and below -0.8 is consider as highly influencing \n",
        "house_data.corr()\n",
        "\n"
      ],
      "execution_count": 0,
      "outputs": [
        {
          "output_type": "execute_result",
          "data": {
            "text/html": [
              "<div>\n",
              "<style scoped>\n",
              "    .dataframe tbody tr th:only-of-type {\n",
              "        vertical-align: middle;\n",
              "    }\n",
              "\n",
              "    .dataframe tbody tr th {\n",
              "        vertical-align: top;\n",
              "    }\n",
              "\n",
              "    .dataframe thead th {\n",
              "        text-align: right;\n",
              "    }\n",
              "</style>\n",
              "<table border=\"1\" class=\"dataframe\">\n",
              "  <thead>\n",
              "    <tr style=\"text-align: right;\">\n",
              "      <th></th>\n",
              "      <th>price</th>\n",
              "      <th>lotsize</th>\n",
              "      <th>bedrooms</th>\n",
              "      <th>bathrms</th>\n",
              "      <th>garagepl</th>\n",
              "    </tr>\n",
              "  </thead>\n",
              "  <tbody>\n",
              "    <tr>\n",
              "      <th>price</th>\n",
              "      <td>1.000000</td>\n",
              "      <td>0.535796</td>\n",
              "      <td>0.366447</td>\n",
              "      <td>0.516719</td>\n",
              "      <td>0.383302</td>\n",
              "    </tr>\n",
              "    <tr>\n",
              "      <th>lotsize</th>\n",
              "      <td>0.535796</td>\n",
              "      <td>1.000000</td>\n",
              "      <td>0.151851</td>\n",
              "      <td>0.193833</td>\n",
              "      <td>0.352872</td>\n",
              "    </tr>\n",
              "    <tr>\n",
              "      <th>bedrooms</th>\n",
              "      <td>0.366447</td>\n",
              "      <td>0.151851</td>\n",
              "      <td>1.000000</td>\n",
              "      <td>0.373769</td>\n",
              "      <td>0.139117</td>\n",
              "    </tr>\n",
              "    <tr>\n",
              "      <th>bathrms</th>\n",
              "      <td>0.516719</td>\n",
              "      <td>0.193833</td>\n",
              "      <td>0.373769</td>\n",
              "      <td>1.000000</td>\n",
              "      <td>0.178178</td>\n",
              "    </tr>\n",
              "    <tr>\n",
              "      <th>garagepl</th>\n",
              "      <td>0.383302</td>\n",
              "      <td>0.352872</td>\n",
              "      <td>0.139117</td>\n",
              "      <td>0.178178</td>\n",
              "      <td>1.000000</td>\n",
              "    </tr>\n",
              "  </tbody>\n",
              "</table>\n",
              "</div>"
            ],
            "text/plain": [
              "             price   lotsize  bedrooms   bathrms  garagepl\n",
              "price     1.000000  0.535796  0.366447  0.516719  0.383302\n",
              "lotsize   0.535796  1.000000  0.151851  0.193833  0.352872\n",
              "bedrooms  0.366447  0.151851  1.000000  0.373769  0.139117\n",
              "bathrms   0.516719  0.193833  0.373769  1.000000  0.178178\n",
              "garagepl  0.383302  0.352872  0.139117  0.178178  1.000000"
            ]
          },
          "metadata": {
            "tags": []
          },
          "execution_count": 7
        }
      ]
    },
    {
      "metadata": {
        "id": "eehq3N9vjmta",
        "colab_type": "code",
        "outputId": "94d3d51d-e981-4223-b999-5eb71afe3914",
        "colab": {
          "base_uri": "https://localhost:8080/",
          "height": 347
        }
      },
      "cell_type": "code",
      "source": [
        "# Plot a scatter graph b/w bedrooms and price\n",
        "x=house_data['bedrooms'].values\n",
        "y=house_data['price'].values\n",
        "plt.scatter(x,y)\n",
        "plt.grid()"
      ],
      "execution_count": 0,
      "outputs": [
        {
          "output_type": "display_data",
          "data": {
            "image/png": "[encoded data removed]",
            "text/plain": [
              "<Figure size 576x396 with 1 Axes>"
            ]
          },
          "metadata": {
            "tags": []
          }
        }
      ]
    },
    {
      "metadata": {
        "id": "JufoKf6qjmte",
        "colab_type": "code",
        "colab": {}
      },
      "cell_type": "code",
      "source": [
        "#stage 2 : Data Pre-processing\n",
        "# 1. Check if data has missing values, If yes replace with mean, median\n",
        "# or else delete missing values\n",
        "\n",
        "# 2  Convert text values into number\n",
        "# a. Label binarizer(Convert binary category to number\n",
        "# b. Label encoder(Convert n-catogory to no.)\n"
      ],
      "execution_count": 0,
      "outputs": []
    },
    {
      "metadata": {
        "id": "X70GYtmWjmth",
        "colab_type": "code",
        "colab": {}
      },
      "cell_type": "code",
      "source": [
        "# Check if Data has missing values \n",
        "house_data.isnull()\n",
        "\n",
        "# Replace missing values in dataset\n",
        "##   house_data.fillna(value=house_data['price'].mean())\n",
        "\n",
        "# Delete missing values in a dataset\n",
        "house_data = house_data.dropna()\n"
      ],
      "execution_count": 0,
      "outputs": []
    },
    {
      "metadata": {
        "id": "AjVrCt21jmtk",
        "colab_type": "code",
        "outputId": "ee96e99a-85fe-42ea-9805-f8e177b0ed45",
        "colab": {
          "base_uri": "https://localhost:8080/",
          "height": 204
        }
      },
      "cell_type": "code",
      "source": [
        "house_data.head()"
      ],
      "execution_count": 0,
      "outputs": [
        {
          "output_type": "execute_result",
          "data": {
            "text/html": [
              "<div>\n",
              "<style scoped>\n",
              "    .dataframe tbody tr th:only-of-type {\n",
              "        vertical-align: middle;\n",
              "    }\n",
              "\n",
              "    .dataframe tbody tr th {\n",
              "        vertical-align: top;\n",
              "    }\n",
              "\n",
              "    .dataframe thead th {\n",
              "        text-align: right;\n",
              "    }\n",
              "</style>\n",
              "<table border=\"1\" class=\"dataframe\">\n",
              "  <thead>\n",
              "    <tr style=\"text-align: right;\">\n",
              "      <th></th>\n",
              "      <th>price</th>\n",
              "      <th>lotsize</th>\n",
              "      <th>bedrooms</th>\n",
              "      <th>bathrms</th>\n",
              "      <th>stories</th>\n",
              "      <th>driveway</th>\n",
              "      <th>recroom</th>\n",
              "      <th>fullbase</th>\n",
              "      <th>gashw</th>\n",
              "      <th>airco</th>\n",
              "      <th>garagepl</th>\n",
              "      <th>prefarea</th>\n",
              "    </tr>\n",
              "  </thead>\n",
              "  <tbody>\n",
              "    <tr>\n",
              "      <th>0</th>\n",
              "      <td>42000.0</td>\n",
              "      <td>5850</td>\n",
              "      <td>3</td>\n",
              "      <td>1</td>\n",
              "      <td>two</td>\n",
              "      <td>yes</td>\n",
              "      <td>no</td>\n",
              "      <td>yes</td>\n",
              "      <td>no</td>\n",
              "      <td>no</td>\n",
              "      <td>1</td>\n",
              "      <td>no</td>\n",
              "    </tr>\n",
              "    <tr>\n",
              "      <th>1</th>\n",
              "      <td>38500.0</td>\n",
              "      <td>4000</td>\n",
              "      <td>2</td>\n",
              "      <td>1</td>\n",
              "      <td>one</td>\n",
              "      <td>yes</td>\n",
              "      <td>no</td>\n",
              "      <td>no</td>\n",
              "      <td>no</td>\n",
              "      <td>no</td>\n",
              "      <td>0</td>\n",
              "      <td>no</td>\n",
              "    </tr>\n",
              "    <tr>\n",
              "      <th>2</th>\n",
              "      <td>49500.0</td>\n",
              "      <td>3060</td>\n",
              "      <td>3</td>\n",
              "      <td>1</td>\n",
              "      <td>one</td>\n",
              "      <td>yes</td>\n",
              "      <td>no</td>\n",
              "      <td>no</td>\n",
              "      <td>no</td>\n",
              "      <td>no</td>\n",
              "      <td>0</td>\n",
              "      <td>no</td>\n",
              "    </tr>\n",
              "    <tr>\n",
              "      <th>3</th>\n",
              "      <td>60500.0</td>\n",
              "      <td>6650</td>\n",
              "      <td>3</td>\n",
              "      <td>1</td>\n",
              "      <td>two</td>\n",
              "      <td>yes</td>\n",
              "      <td>yes</td>\n",
              "      <td>no</td>\n",
              "      <td>no</td>\n",
              "      <td>no</td>\n",
              "      <td>0</td>\n",
              "      <td>no</td>\n",
              "    </tr>\n",
              "    <tr>\n",
              "      <th>4</th>\n",
              "      <td>61000.0</td>\n",
              "      <td>6360</td>\n",
              "      <td>2</td>\n",
              "      <td>1</td>\n",
              "      <td>one</td>\n",
              "      <td>yes</td>\n",
              "      <td>no</td>\n",
              "      <td>no</td>\n",
              "      <td>no</td>\n",
              "      <td>no</td>\n",
              "      <td>0</td>\n",
              "      <td>no</td>\n",
              "    </tr>\n",
              "  </tbody>\n",
              "</table>\n",
              "</div>"
            ],
            "text/plain": [
              "     price  lotsize  bedrooms  bathrms stories driveway recroom fullbase  \\\n",
              "0  42000.0     5850         3        1     two      yes      no      yes   \n",
              "1  38500.0     4000         2        1     one      yes      no       no   \n",
              "2  49500.0     3060         3        1     one      yes      no       no   \n",
              "3  60500.0     6650         3        1     two      yes     yes       no   \n",
              "4  61000.0     6360         2        1     one      yes      no       no   \n",
              "\n",
              "  gashw airco  garagepl prefarea  \n",
              "0    no    no         1       no  \n",
              "1    no    no         0       no  \n",
              "2    no    no         0       no  \n",
              "3    no    no         0       no  \n",
              "4    no    no         0       no  "
            ]
          },
          "metadata": {
            "tags": []
          },
          "execution_count": 10
        }
      ]
    },
    {
      "metadata": {
        "id": "ZvtxDloVjmtn",
        "colab_type": "code",
        "outputId": "317ffd16-22a6-4cd2-9436-8c3a07f00a63",
        "colab": {
          "base_uri": "https://localhost:8080/",
          "height": 204
        }
      },
      "cell_type": "code",
      "source": [
        "# Convert text var into no.\n",
        "# a. Convert binary caegorical to no. using Label Binarizer\n",
        "\n",
        "# For data pre-processing we have library sklearn.preprocessing\n",
        "from sklearn.preprocessing import LabelBinarizer\n",
        "\n",
        "# Create an object of LabelBinarizer\n",
        "lb=LabelBinarizer()\n",
        "\n",
        "# Convert binary categorical var into no.\n",
        "house_data['driveway']=lb.fit_transform(house_data['driveway'])\n",
        "house_data['recroom']=lb.fit_transform(house_data['recroom'])\n",
        "house_data['fullbase']=lb.fit_transform(house_data['fullbase'])\n",
        "house_data['gashw']=lb.fit_transform(house_data['gashw'])\n",
        "house_data['airco']=lb.fit_transform(house_data['airco'])\n",
        "house_data['prefarea']=lb.fit_transform(house_data['prefarea'])\n",
        "house_data.tail()\n",
        "\n",
        "# b. Convert n-categorical to no. using one Hot encoding\n",
        "\n"
      ],
      "execution_count": 0,
      "outputs": [
        {
          "output_type": "execute_result",
          "data": {
            "text/html": [
              "<div>\n",
              "<style scoped>\n",
              "    .dataframe tbody tr th:only-of-type {\n",
              "        vertical-align: middle;\n",
              "    }\n",
              "\n",
              "    .dataframe tbody tr th {\n",
              "        vertical-align: top;\n",
              "    }\n",
              "\n",
              "    .dataframe thead th {\n",
              "        text-align: right;\n",
              "    }\n",
              "</style>\n",
              "<table border=\"1\" class=\"dataframe\">\n",
              "  <thead>\n",
              "    <tr style=\"text-align: right;\">\n",
              "      <th></th>\n",
              "      <th>price</th>\n",
              "      <th>lotsize</th>\n",
              "      <th>bedrooms</th>\n",
              "      <th>bathrms</th>\n",
              "      <th>stories</th>\n",
              "      <th>driveway</th>\n",
              "      <th>recroom</th>\n",
              "      <th>fullbase</th>\n",
              "      <th>gashw</th>\n",
              "      <th>airco</th>\n",
              "      <th>garagepl</th>\n",
              "      <th>prefarea</th>\n",
              "    </tr>\n",
              "  </thead>\n",
              "  <tbody>\n",
              "    <tr>\n",
              "      <th>541</th>\n",
              "      <td>91500.0</td>\n",
              "      <td>4800</td>\n",
              "      <td>3</td>\n",
              "      <td>2</td>\n",
              "      <td>four</td>\n",
              "      <td>1</td>\n",
              "      <td>1</td>\n",
              "      <td>0</td>\n",
              "      <td>0</td>\n",
              "      <td>1</td>\n",
              "      <td>0</td>\n",
              "      <td>0</td>\n",
              "    </tr>\n",
              "    <tr>\n",
              "      <th>542</th>\n",
              "      <td>94000.0</td>\n",
              "      <td>6000</td>\n",
              "      <td>3</td>\n",
              "      <td>2</td>\n",
              "      <td>four</td>\n",
              "      <td>1</td>\n",
              "      <td>0</td>\n",
              "      <td>0</td>\n",
              "      <td>0</td>\n",
              "      <td>1</td>\n",
              "      <td>0</td>\n",
              "      <td>0</td>\n",
              "    </tr>\n",
              "    <tr>\n",
              "      <th>543</th>\n",
              "      <td>103000.0</td>\n",
              "      <td>6000</td>\n",
              "      <td>3</td>\n",
              "      <td>2</td>\n",
              "      <td>four</td>\n",
              "      <td>1</td>\n",
              "      <td>1</td>\n",
              "      <td>0</td>\n",
              "      <td>0</td>\n",
              "      <td>1</td>\n",
              "      <td>1</td>\n",
              "      <td>0</td>\n",
              "    </tr>\n",
              "    <tr>\n",
              "      <th>544</th>\n",
              "      <td>105000.0</td>\n",
              "      <td>6000</td>\n",
              "      <td>3</td>\n",
              "      <td>2</td>\n",
              "      <td>two</td>\n",
              "      <td>1</td>\n",
              "      <td>1</td>\n",
              "      <td>0</td>\n",
              "      <td>0</td>\n",
              "      <td>1</td>\n",
              "      <td>1</td>\n",
              "      <td>0</td>\n",
              "    </tr>\n",
              "    <tr>\n",
              "      <th>545</th>\n",
              "      <td>105000.0</td>\n",
              "      <td>6000</td>\n",
              "      <td>3</td>\n",
              "      <td>1</td>\n",
              "      <td>two</td>\n",
              "      <td>1</td>\n",
              "      <td>0</td>\n",
              "      <td>0</td>\n",
              "      <td>0</td>\n",
              "      <td>1</td>\n",
              "      <td>1</td>\n",
              "      <td>0</td>\n",
              "    </tr>\n",
              "  </tbody>\n",
              "</table>\n",
              "</div>"
            ],
            "text/plain": [
              "        price  lotsize  bedrooms  bathrms stories  driveway  recroom  \\\n",
              "541   91500.0     4800         3        2    four         1        1   \n",
              "542   94000.0     6000         3        2    four         1        0   \n",
              "543  103000.0     6000         3        2    four         1        1   \n",
              "544  105000.0     6000         3        2     two         1        1   \n",
              "545  105000.0     6000         3        1     two         1        0   \n",
              "\n",
              "     fullbase  gashw  airco  garagepl  prefarea  \n",
              "541         0      0      1         0         0  \n",
              "542         0      0      1         0         0  \n",
              "543         0      0      1         1         0  \n",
              "544         0      0      1         1         0  \n",
              "545         0      0      1         1         0  "
            ]
          },
          "metadata": {
            "tags": []
          },
          "execution_count": 11
        }
      ]
    },
    {
      "metadata": {
        "id": "OTaUILf6jmts",
        "colab_type": "code",
        "outputId": "92de2b3b-598b-4ba1-f06b-037103fe152b",
        "colab": {
          "base_uri": "https://localhost:8080/",
          "height": 390
        }
      },
      "cell_type": "code",
      "source": [
        "#corr\n",
        "house_data.corr()"
      ],
      "execution_count": 0,
      "outputs": [
        {
          "output_type": "execute_result",
          "data": {
            "text/html": [
              "<div>\n",
              "<style scoped>\n",
              "    .dataframe tbody tr th:only-of-type {\n",
              "        vertical-align: middle;\n",
              "    }\n",
              "\n",
              "    .dataframe tbody tr th {\n",
              "        vertical-align: top;\n",
              "    }\n",
              "\n",
              "    .dataframe thead th {\n",
              "        text-align: right;\n",
              "    }\n",
              "</style>\n",
              "<table border=\"1\" class=\"dataframe\">\n",
              "  <thead>\n",
              "    <tr style=\"text-align: right;\">\n",
              "      <th></th>\n",
              "      <th>price</th>\n",
              "      <th>lotsize</th>\n",
              "      <th>bedrooms</th>\n",
              "      <th>bathrms</th>\n",
              "      <th>driveway</th>\n",
              "      <th>recroom</th>\n",
              "      <th>fullbase</th>\n",
              "      <th>gashw</th>\n",
              "      <th>airco</th>\n",
              "      <th>garagepl</th>\n",
              "      <th>prefarea</th>\n",
              "    </tr>\n",
              "  </thead>\n",
              "  <tbody>\n",
              "    <tr>\n",
              "      <th>price</th>\n",
              "      <td>1.000000</td>\n",
              "      <td>0.535796</td>\n",
              "      <td>0.366447</td>\n",
              "      <td>0.516719</td>\n",
              "      <td>0.297167</td>\n",
              "      <td>0.254960</td>\n",
              "      <td>0.186218</td>\n",
              "      <td>0.092837</td>\n",
              "      <td>0.453347</td>\n",
              "      <td>0.383302</td>\n",
              "      <td>0.329074</td>\n",
              "    </tr>\n",
              "    <tr>\n",
              "      <th>lotsize</th>\n",
              "      <td>0.535796</td>\n",
              "      <td>1.000000</td>\n",
              "      <td>0.151851</td>\n",
              "      <td>0.193833</td>\n",
              "      <td>0.288778</td>\n",
              "      <td>0.140327</td>\n",
              "      <td>0.047487</td>\n",
              "      <td>-0.009201</td>\n",
              "      <td>0.221765</td>\n",
              "      <td>0.352872</td>\n",
              "      <td>0.234782</td>\n",
              "    </tr>\n",
              "    <tr>\n",
              "      <th>bedrooms</th>\n",
              "      <td>0.366447</td>\n",
              "      <td>0.151851</td>\n",
              "      <td>1.000000</td>\n",
              "      <td>0.373769</td>\n",
              "      <td>-0.011996</td>\n",
              "      <td>0.080492</td>\n",
              "      <td>0.097201</td>\n",
              "      <td>0.046028</td>\n",
              "      <td>0.160412</td>\n",
              "      <td>0.139117</td>\n",
              "      <td>0.078953</td>\n",
              "    </tr>\n",
              "    <tr>\n",
              "      <th>bathrms</th>\n",
              "      <td>0.516719</td>\n",
              "      <td>0.193833</td>\n",
              "      <td>0.373769</td>\n",
              "      <td>1.000000</td>\n",
              "      <td>0.041955</td>\n",
              "      <td>0.126892</td>\n",
              "      <td>0.102791</td>\n",
              "      <td>0.067365</td>\n",
              "      <td>0.184955</td>\n",
              "      <td>0.178178</td>\n",
              "      <td>0.064013</td>\n",
              "    </tr>\n",
              "    <tr>\n",
              "      <th>driveway</th>\n",
              "      <td>0.297167</td>\n",
              "      <td>0.288778</td>\n",
              "      <td>-0.011996</td>\n",
              "      <td>0.041955</td>\n",
              "      <td>1.000000</td>\n",
              "      <td>0.091959</td>\n",
              "      <td>0.043428</td>\n",
              "      <td>-0.011942</td>\n",
              "      <td>0.106290</td>\n",
              "      <td>0.203682</td>\n",
              "      <td>0.199378</td>\n",
              "    </tr>\n",
              "    <tr>\n",
              "      <th>recroom</th>\n",
              "      <td>0.254960</td>\n",
              "      <td>0.140327</td>\n",
              "      <td>0.080492</td>\n",
              "      <td>0.126892</td>\n",
              "      <td>0.091959</td>\n",
              "      <td>1.000000</td>\n",
              "      <td>0.372434</td>\n",
              "      <td>-0.010119</td>\n",
              "      <td>0.136626</td>\n",
              "      <td>0.038122</td>\n",
              "      <td>0.161292</td>\n",
              "    </tr>\n",
              "    <tr>\n",
              "      <th>fullbase</th>\n",
              "      <td>0.186218</td>\n",
              "      <td>0.047487</td>\n",
              "      <td>0.097201</td>\n",
              "      <td>0.102791</td>\n",
              "      <td>0.043428</td>\n",
              "      <td>0.372434</td>\n",
              "      <td>1.000000</td>\n",
              "      <td>0.004677</td>\n",
              "      <td>0.045248</td>\n",
              "      <td>0.052524</td>\n",
              "      <td>0.228651</td>\n",
              "    </tr>\n",
              "    <tr>\n",
              "      <th>gashw</th>\n",
              "      <td>0.092837</td>\n",
              "      <td>-0.009201</td>\n",
              "      <td>0.046028</td>\n",
              "      <td>0.067365</td>\n",
              "      <td>-0.011942</td>\n",
              "      <td>-0.010119</td>\n",
              "      <td>0.004677</td>\n",
              "      <td>1.000000</td>\n",
              "      <td>-0.130350</td>\n",
              "      <td>0.068144</td>\n",
              "      <td>-0.059170</td>\n",
              "    </tr>\n",
              "    <tr>\n",
              "      <th>airco</th>\n",
              "      <td>0.453347</td>\n",
              "      <td>0.221765</td>\n",
              "      <td>0.160412</td>\n",
              "      <td>0.184955</td>\n",
              "      <td>0.106290</td>\n",
              "      <td>0.136626</td>\n",
              "      <td>0.045248</td>\n",
              "      <td>-0.130350</td>\n",
              "      <td>1.000000</td>\n",
              "      <td>0.156596</td>\n",
              "      <td>0.115626</td>\n",
              "    </tr>\n",
              "    <tr>\n",
              "      <th>garagepl</th>\n",
              "      <td>0.383302</td>\n",
              "      <td>0.352872</td>\n",
              "      <td>0.139117</td>\n",
              "      <td>0.178178</td>\n",
              "      <td>0.203682</td>\n",
              "      <td>0.038122</td>\n",
              "      <td>0.052524</td>\n",
              "      <td>0.068144</td>\n",
              "      <td>0.156596</td>\n",
              "      <td>1.000000</td>\n",
              "      <td>0.092364</td>\n",
              "    </tr>\n",
              "    <tr>\n",
              "      <th>prefarea</th>\n",
              "      <td>0.329074</td>\n",
              "      <td>0.234782</td>\n",
              "      <td>0.078953</td>\n",
              "      <td>0.064013</td>\n",
              "      <td>0.199378</td>\n",
              "      <td>0.161292</td>\n",
              "      <td>0.228651</td>\n",
              "      <td>-0.059170</td>\n",
              "      <td>0.115626</td>\n",
              "      <td>0.092364</td>\n",
              "      <td>1.000000</td>\n",
              "    </tr>\n",
              "  </tbody>\n",
              "</table>\n",
              "</div>"
            ],
            "text/plain": [
              "             price   lotsize  bedrooms   bathrms  driveway   recroom  \\\n",
              "price     1.000000  0.535796  0.366447  0.516719  0.297167  0.254960   \n",
              "lotsize   0.535796  1.000000  0.151851  0.193833  0.288778  0.140327   \n",
              "bedrooms  0.366447  0.151851  1.000000  0.373769 -0.011996  0.080492   \n",
              "bathrms   0.516719  0.193833  0.373769  1.000000  0.041955  0.126892   \n",
              "driveway  0.297167  0.288778 -0.011996  0.041955  1.000000  0.091959   \n",
              "recroom   0.254960  0.140327  0.080492  0.126892  0.091959  1.000000   \n",
              "fullbase  0.186218  0.047487  0.097201  0.102791  0.043428  0.372434   \n",
              "gashw     0.092837 -0.009201  0.046028  0.067365 -0.011942 -0.010119   \n",
              "airco     0.453347  0.221765  0.160412  0.184955  0.106290  0.136626   \n",
              "garagepl  0.383302  0.352872  0.139117  0.178178  0.203682  0.038122   \n",
              "prefarea  0.329074  0.234782  0.078953  0.064013  0.199378  0.161292   \n",
              "\n",
              "          fullbase     gashw     airco  garagepl  prefarea  \n",
              "price     0.186218  0.092837  0.453347  0.383302  0.329074  \n",
              "lotsize   0.047487 -0.009201  0.221765  0.352872  0.234782  \n",
              "bedrooms  0.097201  0.046028  0.160412  0.139117  0.078953  \n",
              "bathrms   0.102791  0.067365  0.184955  0.178178  0.064013  \n",
              "driveway  0.043428 -0.011942  0.106290  0.203682  0.199378  \n",
              "recroom   0.372434 -0.010119  0.136626  0.038122  0.161292  \n",
              "fullbase  1.000000  0.004677  0.045248  0.052524  0.228651  \n",
              "gashw     0.004677  1.000000 -0.130350  0.068144 -0.059170  \n",
              "airco     0.045248 -0.130350  1.000000  0.156596  0.115626  \n",
              "garagepl  0.052524  0.068144  0.156596  1.000000  0.092364  \n",
              "prefarea  0.228651 -0.059170  0.115626  0.092364  1.000000  "
            ]
          },
          "metadata": {
            "tags": []
          },
          "execution_count": 12
        }
      ]
    },
    {
      "metadata": {
        "id": "lvrul4Vgjmtx",
        "colab_type": "code",
        "outputId": "2972fee7-afee-467b-a25e-7ae076d09544",
        "colab": {
          "base_uri": "https://localhost:8080/",
          "height": 204
        }
      },
      "cell_type": "code",
      "source": [
        "# b2. Convert var into dumy indicator var\n",
        "df2 = pd.get_dummies(house_data.stories, prefix='stories')\n",
        "\n",
        "# Display house_data and df2 data\n",
        "df2.head()"
      ],
      "execution_count": 0,
      "outputs": [
        {
          "output_type": "execute_result",
          "data": {
            "text/html": [
              "<div>\n",
              "<style scoped>\n",
              "    .dataframe tbody tr th:only-of-type {\n",
              "        vertical-align: middle;\n",
              "    }\n",
              "\n",
              "    .dataframe tbody tr th {\n",
              "        vertical-align: top;\n",
              "    }\n",
              "\n",
              "    .dataframe thead th {\n",
              "        text-align: right;\n",
              "    }\n",
              "</style>\n",
              "<table border=\"1\" class=\"dataframe\">\n",
              "  <thead>\n",
              "    <tr style=\"text-align: right;\">\n",
              "      <th></th>\n",
              "      <th>stories_four</th>\n",
              "      <th>stories_one</th>\n",
              "      <th>stories_three</th>\n",
              "      <th>stories_two</th>\n",
              "    </tr>\n",
              "  </thead>\n",
              "  <tbody>\n",
              "    <tr>\n",
              "      <th>0</th>\n",
              "      <td>0</td>\n",
              "      <td>0</td>\n",
              "      <td>0</td>\n",
              "      <td>1</td>\n",
              "    </tr>\n",
              "    <tr>\n",
              "      <th>1</th>\n",
              "      <td>0</td>\n",
              "      <td>1</td>\n",
              "      <td>0</td>\n",
              "      <td>0</td>\n",
              "    </tr>\n",
              "    <tr>\n",
              "      <th>2</th>\n",
              "      <td>0</td>\n",
              "      <td>1</td>\n",
              "      <td>0</td>\n",
              "      <td>0</td>\n",
              "    </tr>\n",
              "    <tr>\n",
              "      <th>3</th>\n",
              "      <td>0</td>\n",
              "      <td>0</td>\n",
              "      <td>0</td>\n",
              "      <td>1</td>\n",
              "    </tr>\n",
              "    <tr>\n",
              "      <th>4</th>\n",
              "      <td>0</td>\n",
              "      <td>1</td>\n",
              "      <td>0</td>\n",
              "      <td>0</td>\n",
              "    </tr>\n",
              "  </tbody>\n",
              "</table>\n",
              "</div>"
            ],
            "text/plain": [
              "   stories_four  stories_one  stories_three  stories_two\n",
              "0             0            0              0            1\n",
              "1             0            1              0            0\n",
              "2             0            1              0            0\n",
              "3             0            0              0            1\n",
              "4             0            1              0            0"
            ]
          },
          "metadata": {
            "tags": []
          },
          "execution_count": 13
        }
      ]
    },
    {
      "metadata": {
        "id": "JOuCyvKIjmt1",
        "colab_type": "code",
        "colab": {}
      },
      "cell_type": "code",
      "source": [
        "# Concatenate dummy indicator var for stories with house_data  \n",
        "# Concatenate columns of df2 with coumns of house_data\n",
        "df = pd.concat([house_data, df2], axis=1,)\n",
        "# run only one time "
      ],
      "execution_count": 0,
      "outputs": []
    },
    {
      "metadata": {
        "id": "h_cWIbisjmt4",
        "colab_type": "code",
        "outputId": "2f0f5b47-a41d-4e50-ba47-bc98b694ae94",
        "colab": {
          "base_uri": "https://localhost:8080/",
          "height": 182
        }
      },
      "cell_type": "code",
      "source": [
        "df.shape\n",
        "df.head(3)"
      ],
      "execution_count": 0,
      "outputs": [
        {
          "output_type": "execute_result",
          "data": {
            "text/html": [
              "<div>\n",
              "<style scoped>\n",
              "    .dataframe tbody tr th:only-of-type {\n",
              "        vertical-align: middle;\n",
              "    }\n",
              "\n",
              "    .dataframe tbody tr th {\n",
              "        vertical-align: top;\n",
              "    }\n",
              "\n",
              "    .dataframe thead th {\n",
              "        text-align: right;\n",
              "    }\n",
              "</style>\n",
              "<table border=\"1\" class=\"dataframe\">\n",
              "  <thead>\n",
              "    <tr style=\"text-align: right;\">\n",
              "      <th></th>\n",
              "      <th>price</th>\n",
              "      <th>lotsize</th>\n",
              "      <th>bedrooms</th>\n",
              "      <th>bathrms</th>\n",
              "      <th>stories</th>\n",
              "      <th>driveway</th>\n",
              "      <th>recroom</th>\n",
              "      <th>fullbase</th>\n",
              "      <th>gashw</th>\n",
              "      <th>airco</th>\n",
              "      <th>garagepl</th>\n",
              "      <th>prefarea</th>\n",
              "      <th>stories_four</th>\n",
              "      <th>stories_one</th>\n",
              "      <th>stories_three</th>\n",
              "      <th>stories_two</th>\n",
              "    </tr>\n",
              "  </thead>\n",
              "  <tbody>\n",
              "    <tr>\n",
              "      <th>0</th>\n",
              "      <td>42000.0</td>\n",
              "      <td>5850</td>\n",
              "      <td>3</td>\n",
              "      <td>1</td>\n",
              "      <td>two</td>\n",
              "      <td>1</td>\n",
              "      <td>0</td>\n",
              "      <td>1</td>\n",
              "      <td>0</td>\n",
              "      <td>0</td>\n",
              "      <td>1</td>\n",
              "      <td>0</td>\n",
              "      <td>0</td>\n",
              "      <td>0</td>\n",
              "      <td>0</td>\n",
              "      <td>1</td>\n",
              "    </tr>\n",
              "    <tr>\n",
              "      <th>1</th>\n",
              "      <td>38500.0</td>\n",
              "      <td>4000</td>\n",
              "      <td>2</td>\n",
              "      <td>1</td>\n",
              "      <td>one</td>\n",
              "      <td>1</td>\n",
              "      <td>0</td>\n",
              "      <td>0</td>\n",
              "      <td>0</td>\n",
              "      <td>0</td>\n",
              "      <td>0</td>\n",
              "      <td>0</td>\n",
              "      <td>0</td>\n",
              "      <td>1</td>\n",
              "      <td>0</td>\n",
              "      <td>0</td>\n",
              "    </tr>\n",
              "    <tr>\n",
              "      <th>2</th>\n",
              "      <td>49500.0</td>\n",
              "      <td>3060</td>\n",
              "      <td>3</td>\n",
              "      <td>1</td>\n",
              "      <td>one</td>\n",
              "      <td>1</td>\n",
              "      <td>0</td>\n",
              "      <td>0</td>\n",
              "      <td>0</td>\n",
              "      <td>0</td>\n",
              "      <td>0</td>\n",
              "      <td>0</td>\n",
              "      <td>0</td>\n",
              "      <td>1</td>\n",
              "      <td>0</td>\n",
              "      <td>0</td>\n",
              "    </tr>\n",
              "  </tbody>\n",
              "</table>\n",
              "</div>"
            ],
            "text/plain": [
              "     price  lotsize  bedrooms  bathrms stories  driveway  recroom  fullbase  \\\n",
              "0  42000.0     5850         3        1     two         1        0         1   \n",
              "1  38500.0     4000         2        1     one         1        0         0   \n",
              "2  49500.0     3060         3        1     one         1        0         0   \n",
              "\n",
              "   gashw  airco  garagepl  prefarea  stories_four  stories_one  stories_three  \\\n",
              "0      0      0         1         0             0            0              0   \n",
              "1      0      0         0         0             0            1              0   \n",
              "2      0      0         0         0             0            1              0   \n",
              "\n",
              "   stories_two  \n",
              "0            1  \n",
              "1            0  \n",
              "2            0  "
            ]
          },
          "metadata": {
            "tags": []
          },
          "execution_count": 15
        }
      ]
    },
    {
      "metadata": {
        "id": "F3QlrKd8jmt9",
        "colab_type": "code",
        "colab": {}
      },
      "cell_type": "code",
      "source": [
        "# Delete stories columns from dataframe\n",
        "del df['stories']\n",
        "# run only one time "
      ],
      "execution_count": 0,
      "outputs": []
    },
    {
      "metadata": {
        "id": "wSKlHhlfjmt_",
        "colab_type": "code",
        "outputId": "9070f61c-db89-4e55-d13b-aa1351dd0f68",
        "colab": {
          "base_uri": "https://localhost:8080/",
          "height": 554
        }
      },
      "cell_type": "code",
      "source": [
        "df.shape\n",
        "df.head()\n",
        "df.corr()"
      ],
      "execution_count": 0,
      "outputs": [
        {
          "output_type": "execute_result",
          "data": {
            "text/html": [
              "<div>\n",
              "<style scoped>\n",
              "    .dataframe tbody tr th:only-of-type {\n",
              "        vertical-align: middle;\n",
              "    }\n",
              "\n",
              "    .dataframe tbody tr th {\n",
              "        vertical-align: top;\n",
              "    }\n",
              "\n",
              "    .dataframe thead th {\n",
              "        text-align: right;\n",
              "    }\n",
              "</style>\n",
              "<table border=\"1\" class=\"dataframe\">\n",
              "  <thead>\n",
              "    <tr style=\"text-align: right;\">\n",
              "      <th></th>\n",
              "      <th>price</th>\n",
              "      <th>lotsize</th>\n",
              "      <th>bedrooms</th>\n",
              "      <th>bathrms</th>\n",
              "      <th>driveway</th>\n",
              "      <th>recroom</th>\n",
              "      <th>fullbase</th>\n",
              "      <th>gashw</th>\n",
              "      <th>airco</th>\n",
              "      <th>garagepl</th>\n",
              "      <th>prefarea</th>\n",
              "      <th>stories_four</th>\n",
              "      <th>stories_one</th>\n",
              "      <th>stories_three</th>\n",
              "      <th>stories_two</th>\n",
              "    </tr>\n",
              "  </thead>\n",
              "  <tbody>\n",
              "    <tr>\n",
              "      <th>price</th>\n",
              "      <td>1.000000</td>\n",
              "      <td>0.535796</td>\n",
              "      <td>0.366447</td>\n",
              "      <td>0.516719</td>\n",
              "      <td>0.297167</td>\n",
              "      <td>0.254960</td>\n",
              "      <td>0.186218</td>\n",
              "      <td>0.092837</td>\n",
              "      <td>0.453347</td>\n",
              "      <td>0.383302</td>\n",
              "      <td>0.329074</td>\n",
              "      <td>0.372281</td>\n",
              "      <td>-0.270058</td>\n",
              "      <td>0.138254</td>\n",
              "      <td>-0.002089</td>\n",
              "    </tr>\n",
              "    <tr>\n",
              "      <th>lotsize</th>\n",
              "      <td>0.535796</td>\n",
              "      <td>1.000000</td>\n",
              "      <td>0.151851</td>\n",
              "      <td>0.193833</td>\n",
              "      <td>0.288778</td>\n",
              "      <td>0.140327</td>\n",
              "      <td>0.047487</td>\n",
              "      <td>-0.009201</td>\n",
              "      <td>0.221765</td>\n",
              "      <td>0.352872</td>\n",
              "      <td>0.234782</td>\n",
              "      <td>0.178354</td>\n",
              "      <td>0.054348</td>\n",
              "      <td>0.020567</td>\n",
              "      <td>-0.159612</td>\n",
              "    </tr>\n",
              "    <tr>\n",
              "      <th>bedrooms</th>\n",
              "      <td>0.366447</td>\n",
              "      <td>0.151851</td>\n",
              "      <td>1.000000</td>\n",
              "      <td>0.373769</td>\n",
              "      <td>-0.011996</td>\n",
              "      <td>0.080492</td>\n",
              "      <td>0.097201</td>\n",
              "      <td>0.046028</td>\n",
              "      <td>0.160412</td>\n",
              "      <td>0.139117</td>\n",
              "      <td>0.078953</td>\n",
              "      <td>0.145525</td>\n",
              "      <td>-0.509974</td>\n",
              "      <td>0.099150</td>\n",
              "      <td>0.377424</td>\n",
              "    </tr>\n",
              "    <tr>\n",
              "      <th>bathrms</th>\n",
              "      <td>0.516719</td>\n",
              "      <td>0.193833</td>\n",
              "      <td>0.373769</td>\n",
              "      <td>1.000000</td>\n",
              "      <td>0.041955</td>\n",
              "      <td>0.126892</td>\n",
              "      <td>0.102791</td>\n",
              "      <td>0.067365</td>\n",
              "      <td>0.184955</td>\n",
              "      <td>0.178178</td>\n",
              "      <td>0.064013</td>\n",
              "      <td>0.281003</td>\n",
              "      <td>-0.250784</td>\n",
              "      <td>0.036027</td>\n",
              "      <td>0.080982</td>\n",
              "    </tr>\n",
              "    <tr>\n",
              "      <th>driveway</th>\n",
              "      <td>0.297167</td>\n",
              "      <td>0.288778</td>\n",
              "      <td>-0.011996</td>\n",
              "      <td>0.041955</td>\n",
              "      <td>1.000000</td>\n",
              "      <td>0.091959</td>\n",
              "      <td>0.043428</td>\n",
              "      <td>-0.011942</td>\n",
              "      <td>0.106290</td>\n",
              "      <td>0.203682</td>\n",
              "      <td>0.199378</td>\n",
              "      <td>0.115453</td>\n",
              "      <td>-0.053249</td>\n",
              "      <td>0.073533</td>\n",
              "      <td>-0.047074</td>\n",
              "    </tr>\n",
              "    <tr>\n",
              "      <th>recroom</th>\n",
              "      <td>0.254960</td>\n",
              "      <td>0.140327</td>\n",
              "      <td>0.080492</td>\n",
              "      <td>0.126892</td>\n",
              "      <td>0.091959</td>\n",
              "      <td>1.000000</td>\n",
              "      <td>0.372434</td>\n",
              "      <td>-0.010119</td>\n",
              "      <td>0.136626</td>\n",
              "      <td>0.038122</td>\n",
              "      <td>0.161292</td>\n",
              "      <td>0.067567</td>\n",
              "      <td>-0.022632</td>\n",
              "      <td>-0.038733</td>\n",
              "      <td>0.006938</td>\n",
              "    </tr>\n",
              "    <tr>\n",
              "      <th>fullbase</th>\n",
              "      <td>0.186218</td>\n",
              "      <td>0.047487</td>\n",
              "      <td>0.097201</td>\n",
              "      <td>0.102791</td>\n",
              "      <td>0.043428</td>\n",
              "      <td>0.372434</td>\n",
              "      <td>1.000000</td>\n",
              "      <td>0.004677</td>\n",
              "      <td>0.045248</td>\n",
              "      <td>0.052524</td>\n",
              "      <td>0.228651</td>\n",
              "      <td>-0.165285</td>\n",
              "      <td>0.059154</td>\n",
              "      <td>-0.132540</td>\n",
              "      <td>0.098694</td>\n",
              "    </tr>\n",
              "    <tr>\n",
              "      <th>gashw</th>\n",
              "      <td>0.092837</td>\n",
              "      <td>-0.009201</td>\n",
              "      <td>0.046028</td>\n",
              "      <td>0.067365</td>\n",
              "      <td>-0.011942</td>\n",
              "      <td>-0.010119</td>\n",
              "      <td>0.004677</td>\n",
              "      <td>1.000000</td>\n",
              "      <td>-0.130350</td>\n",
              "      <td>0.068144</td>\n",
              "      <td>-0.059170</td>\n",
              "      <td>-0.062416</td>\n",
              "      <td>-0.060336</td>\n",
              "      <td>0.072922</td>\n",
              "      <td>0.054823</td>\n",
              "    </tr>\n",
              "    <tr>\n",
              "      <th>airco</th>\n",
              "      <td>0.453347</td>\n",
              "      <td>0.221765</td>\n",
              "      <td>0.160412</td>\n",
              "      <td>0.184955</td>\n",
              "      <td>0.106290</td>\n",
              "      <td>0.136626</td>\n",
              "      <td>0.045248</td>\n",
              "      <td>-0.130350</td>\n",
              "      <td>1.000000</td>\n",
              "      <td>0.156596</td>\n",
              "      <td>0.115626</td>\n",
              "      <td>0.298887</td>\n",
              "      <td>-0.143174</td>\n",
              "      <td>0.110682</td>\n",
              "      <td>-0.074706</td>\n",
              "    </tr>\n",
              "    <tr>\n",
              "      <th>garagepl</th>\n",
              "      <td>0.383302</td>\n",
              "      <td>0.352872</td>\n",
              "      <td>0.139117</td>\n",
              "      <td>0.178178</td>\n",
              "      <td>0.203682</td>\n",
              "      <td>0.038122</td>\n",
              "      <td>0.052524</td>\n",
              "      <td>0.068144</td>\n",
              "      <td>0.156596</td>\n",
              "      <td>1.000000</td>\n",
              "      <td>0.092364</td>\n",
              "      <td>0.126112</td>\n",
              "      <td>0.016610</td>\n",
              "      <td>-0.079170</td>\n",
              "      <td>-0.041931</td>\n",
              "    </tr>\n",
              "    <tr>\n",
              "      <th>prefarea</th>\n",
              "      <td>0.329074</td>\n",
              "      <td>0.234782</td>\n",
              "      <td>0.078953</td>\n",
              "      <td>0.064013</td>\n",
              "      <td>0.199378</td>\n",
              "      <td>0.161292</td>\n",
              "      <td>0.228651</td>\n",
              "      <td>-0.059170</td>\n",
              "      <td>0.115626</td>\n",
              "      <td>0.092364</td>\n",
              "      <td>1.000000</td>\n",
              "      <td>-0.010035</td>\n",
              "      <td>-0.010668</td>\n",
              "      <td>0.143067</td>\n",
              "      <td>-0.059240</td>\n",
              "    </tr>\n",
              "    <tr>\n",
              "      <th>stories_four</th>\n",
              "      <td>0.372281</td>\n",
              "      <td>0.178354</td>\n",
              "      <td>0.145525</td>\n",
              "      <td>0.281003</td>\n",
              "      <td>0.115453</td>\n",
              "      <td>0.067567</td>\n",
              "      <td>-0.165285</td>\n",
              "      <td>-0.062416</td>\n",
              "      <td>0.298887</td>\n",
              "      <td>0.126112</td>\n",
              "      <td>-0.010035</td>\n",
              "      <td>1.000000</td>\n",
              "      <td>-0.240361</td>\n",
              "      <td>-0.080113</td>\n",
              "      <td>-0.250472</td>\n",
              "    </tr>\n",
              "    <tr>\n",
              "      <th>stories_one</th>\n",
              "      <td>-0.270058</td>\n",
              "      <td>0.054348</td>\n",
              "      <td>-0.509974</td>\n",
              "      <td>-0.250784</td>\n",
              "      <td>-0.053249</td>\n",
              "      <td>-0.022632</td>\n",
              "      <td>0.059154</td>\n",
              "      <td>-0.060336</td>\n",
              "      <td>-0.143174</td>\n",
              "      <td>0.016610</td>\n",
              "      <td>-0.010668</td>\n",
              "      <td>-0.240361</td>\n",
              "      <td>1.000000</td>\n",
              "      <td>-0.237177</td>\n",
              "      <td>-0.741533</td>\n",
              "    </tr>\n",
              "    <tr>\n",
              "      <th>stories_three</th>\n",
              "      <td>0.138254</td>\n",
              "      <td>0.020567</td>\n",
              "      <td>0.099150</td>\n",
              "      <td>0.036027</td>\n",
              "      <td>0.073533</td>\n",
              "      <td>-0.038733</td>\n",
              "      <td>-0.132540</td>\n",
              "      <td>0.072922</td>\n",
              "      <td>0.110682</td>\n",
              "      <td>-0.079170</td>\n",
              "      <td>0.143067</td>\n",
              "      <td>-0.080113</td>\n",
              "      <td>-0.237177</td>\n",
              "      <td>1.000000</td>\n",
              "      <td>-0.247154</td>\n",
              "    </tr>\n",
              "    <tr>\n",
              "      <th>stories_two</th>\n",
              "      <td>-0.002089</td>\n",
              "      <td>-0.159612</td>\n",
              "      <td>0.377424</td>\n",
              "      <td>0.080982</td>\n",
              "      <td>-0.047074</td>\n",
              "      <td>0.006938</td>\n",
              "      <td>0.098694</td>\n",
              "      <td>0.054823</td>\n",
              "      <td>-0.074706</td>\n",
              "      <td>-0.041931</td>\n",
              "      <td>-0.059240</td>\n",
              "      <td>-0.250472</td>\n",
              "      <td>-0.741533</td>\n",
              "      <td>-0.247154</td>\n",
              "      <td>1.000000</td>\n",
              "    </tr>\n",
              "  </tbody>\n",
              "</table>\n",
              "</div>"
            ],
            "text/plain": [
              "                  price   lotsize  bedrooms   bathrms  driveway   recroom  \\\n",
              "price          1.000000  0.535796  0.366447  0.516719  0.297167  0.254960   \n",
              "lotsize        0.535796  1.000000  0.151851  0.193833  0.288778  0.140327   \n",
              "bedrooms       0.366447  0.151851  1.000000  0.373769 -0.011996  0.080492   \n",
              "bathrms        0.516719  0.193833  0.373769  1.000000  0.041955  0.126892   \n",
              "driveway       0.297167  0.288778 -0.011996  0.041955  1.000000  0.091959   \n",
              "recroom        0.254960  0.140327  0.080492  0.126892  0.091959  1.000000   \n",
              "fullbase       0.186218  0.047487  0.097201  0.102791  0.043428  0.372434   \n",
              "gashw          0.092837 -0.009201  0.046028  0.067365 -0.011942 -0.010119   \n",
              "airco          0.453347  0.221765  0.160412  0.184955  0.106290  0.136626   \n",
              "garagepl       0.383302  0.352872  0.139117  0.178178  0.203682  0.038122   \n",
              "prefarea       0.329074  0.234782  0.078953  0.064013  0.199378  0.161292   \n",
              "stories_four   0.372281  0.178354  0.145525  0.281003  0.115453  0.067567   \n",
              "stories_one   -0.270058  0.054348 -0.509974 -0.250784 -0.053249 -0.022632   \n",
              "stories_three  0.138254  0.020567  0.099150  0.036027  0.073533 -0.038733   \n",
              "stories_two   -0.002089 -0.159612  0.377424  0.080982 -0.047074  0.006938   \n",
              "\n",
              "               fullbase     gashw     airco  garagepl  prefarea  stories_four  \\\n",
              "price          0.186218  0.092837  0.453347  0.383302  0.329074      0.372281   \n",
              "lotsize        0.047487 -0.009201  0.221765  0.352872  0.234782      0.178354   \n",
              "bedrooms       0.097201  0.046028  0.160412  0.139117  0.078953      0.145525   \n",
              "bathrms        0.102791  0.067365  0.184955  0.178178  0.064013      0.281003   \n",
              "driveway       0.043428 -0.011942  0.106290  0.203682  0.199378      0.115453   \n",
              "recroom        0.372434 -0.010119  0.136626  0.038122  0.161292      0.067567   \n",
              "fullbase       1.000000  0.004677  0.045248  0.052524  0.228651     -0.165285   \n",
              "gashw          0.004677  1.000000 -0.130350  0.068144 -0.059170     -0.062416   \n",
              "airco          0.045248 -0.130350  1.000000  0.156596  0.115626      0.298887   \n",
              "garagepl       0.052524  0.068144  0.156596  1.000000  0.092364      0.126112   \n",
              "prefarea       0.228651 -0.059170  0.115626  0.092364  1.000000     -0.010035   \n",
              "stories_four  -0.165285 -0.062416  0.298887  0.126112 -0.010035      1.000000   \n",
              "stories_one    0.059154 -0.060336 -0.143174  0.016610 -0.010668     -0.240361   \n",
              "stories_three -0.132540  0.072922  0.110682 -0.079170  0.143067     -0.080113   \n",
              "stories_two    0.098694  0.054823 -0.074706 -0.041931 -0.059240     -0.250472   \n",
              "\n",
              "               stories_one  stories_three  stories_two  \n",
              "price            -0.270058       0.138254    -0.002089  \n",
              "lotsize           0.054348       0.020567    -0.159612  \n",
              "bedrooms         -0.509974       0.099150     0.377424  \n",
              "bathrms          -0.250784       0.036027     0.080982  \n",
              "driveway         -0.053249       0.073533    -0.047074  \n",
              "recroom          -0.022632      -0.038733     0.006938  \n",
              "fullbase          0.059154      -0.132540     0.098694  \n",
              "gashw            -0.060336       0.072922     0.054823  \n",
              "airco            -0.143174       0.110682    -0.074706  \n",
              "garagepl          0.016610      -0.079170    -0.041931  \n",
              "prefarea         -0.010668       0.143067    -0.059240  \n",
              "stories_four     -0.240361      -0.080113    -0.250472  \n",
              "stories_one       1.000000      -0.237177    -0.741533  \n",
              "stories_three    -0.237177       1.000000    -0.247154  \n",
              "stories_two      -0.741533      -0.247154     1.000000  "
            ]
          },
          "metadata": {
            "tags": []
          },
          "execution_count": 17
        }
      ]
    },
    {
      "metadata": {
        "id": "0Uwz6o8ljmuD",
        "colab_type": "code",
        "colab": {}
      },
      "cell_type": "code",
      "source": [
        "#house_data.plot(x=house_data['price'],y=house_data['bedrooms'],kind=\"scatter\")\n",
        "\n",
        "\n",
        "# compare all 12 independent var with each other for selection purpose\n",
        "#selction criteria = identify positive or negative influencers\n",
        "\n"
      ],
      "execution_count": 0,
      "outputs": []
    },
    {
      "metadata": {
        "id": "4FSWXpKKjmuE",
        "colab_type": "code",
        "outputId": "5c8ce9ee-d4f9-495f-8f36-5426bebab641",
        "colab": {
          "base_uri": "https://localhost:8080/",
          "height": 859
        }
      },
      "cell_type": "code",
      "source": [
        "# Create a correlation matrix to identify highly influencing variables\n",
        "\n",
        "#%matplotlib inline\n",
        "from statsmodels.api import graphics as sm\n",
        "sm.plot_corr(df.corr(), xnames=list(df.columns),title='House Data')\n",
        "#sm.plot_corr(df.corr(), xnames=df.columns,title='House Data')\n",
        "\n",
        "\n",
        "#import statsmodels.api as sm\n",
        "#sm.graphics.plot_corr(df.corr(), xnames=list(df.columns))\n",
        "\n"
      ],
      "execution_count": 0,
      "outputs": [
        {
          "output_type": "stream",
          "text": [
            "/usr/local/lib/python3.6/dist-packages/statsmodels/compat/pandas.py:56: FutureWarning: The pandas.core.datetools module is deprecated and will be removed in a future version. Please use the pandas.tseries module instead.\n",
            "  from pandas.core import datetools\n"
          ],
          "name": "stderr"
        },
        {
          "output_type": "execute_result",
          "data": {
            "image/png": "[encoded data removed]",
            "text/plain": [
              "<Figure size 576x396 with 2 Axes>"
            ]
          },
          "metadata": {
            "tags": []
          },
          "execution_count": 18
        },
        {
          "output_type": "display_data",
          "data": {
            "image/png": "[encoded data removed]",
            "text/plain": [
              "<Figure size 576x396 with 2 Axes>"
            ]
          },
          "metadata": {
            "tags": []
          }
        }
      ]
    },
    {
      "metadata": {
        "id": "kSKYt5bUjmuH",
        "colab_type": "code",
        "outputId": "6ac81b6b-70c8-4e4d-fa10-f651bc0aedea",
        "colab": {
          "base_uri": "https://localhost:8080/",
          "height": 364
        }
      },
      "cell_type": "code",
      "source": [
        "df.plot()"
      ],
      "execution_count": 0,
      "outputs": [
        {
          "output_type": "execute_result",
          "data": {
            "text/plain": [
              "<matplotlib.axes._subplots.AxesSubplot at 0x7f3c02ba4518>"
            ]
          },
          "metadata": {
            "tags": []
          },
          "execution_count": 19
        },
        {
          "output_type": "display_data",
          "data": {
            "image/png": "[encoded data removed]",
            "text/plain": [
              "<Figure size 576x396 with 1 Axes>"
            ]
          },
          "metadata": {
            "tags": []
          }
        }
      ]
    },
    {
      "metadata": {
        "id": "EhK8avzejmuL",
        "colab_type": "code",
        "outputId": "024ba152-45cd-45e6-a34c-aecda4287836",
        "colab": {
          "base_uri": "https://localhost:8080/",
          "height": 119
        }
      },
      "cell_type": "code",
      "source": [
        "# Stage 4: Data Tranformation \n",
        "# a. Standarddization = (StandaedScalar) X-mean / deviation => [-1,1]\n",
        "\n",
        "# Calculate the mean of var\n",
        "X=df.price\n",
        "Xmean=X.mean()\n",
        "#print(Xmean)\n",
        "\n",
        "Xstd=X.std()\n",
        "#print(Xstd)\n",
        "\n",
        "# standardize the var\n",
        "scaledX = (X - Xmean) / Xstd\n",
        "scaledX\n",
        "\n",
        "# b. Normalization = (MinMaxScaler) X - Xmin / Xmax -Xmin => [0,-1]\n",
        "\n",
        "# Feature scale the price var\n",
        "normalizedX = (X - X.min()) / (X.max() - X.min())\n",
        "normalizedX.head()"
      ],
      "execution_count": 0,
      "outputs": [
        {
          "output_type": "execute_result",
          "data": {
            "text/plain": [
              "0    0.103030\n",
              "1    0.081818\n",
              "2    0.148485\n",
              "3    0.215152\n",
              "4    0.218182\n",
              "Name: price, dtype: float64"
            ]
          },
          "metadata": {
            "tags": []
          },
          "execution_count": 20
        }
      ]
    },
    {
      "metadata": {
        "id": "cSoW_0qWjmuP",
        "colab_type": "code",
        "outputId": "1c2642dd-6fad-430f-a628-4c6706016124",
        "colab": {
          "base_uri": "https://localhost:8080/",
          "height": 329
        }
      },
      "cell_type": "code",
      "source": [
        "# Use MinMaxScalar from preprocessing to normalize your dataset\n",
        "import sklearn.preprocessing as pp\n",
        "scaler=pp.MinMaxScaler()\n",
        "print(scaler)\n",
        "normalizedDF = scaler.fit_transform(df)\n",
        "normalizedDF\n"
      ],
      "execution_count": 0,
      "outputs": [
        {
          "output_type": "stream",
          "text": [
            "MinMaxScaler(copy=True, feature_range=(0, 1))\n"
          ],
          "name": "stdout"
        },
        {
          "output_type": "stream",
          "text": [
            "/usr/local/lib/python3.6/dist-packages/sklearn/preprocessing/data.py:323: DataConversionWarning: Data with input dtype uint8, int64, float64 were all converted to float64 by MinMaxScaler.\n",
            "  return self.partial_fit(X, y)\n"
          ],
          "name": "stderr"
        },
        {
          "output_type": "execute_result",
          "data": {
            "text/plain": [
              "array([[0.1030303 , 0.28865979, 0.4       , ..., 0.        , 0.        ,\n",
              "        1.        ],\n",
              "       [0.08181818, 0.16151203, 0.2       , ..., 1.        , 0.        ,\n",
              "        0.        ],\n",
              "       [0.14848485, 0.09690722, 0.4       , ..., 1.        , 0.        ,\n",
              "        0.        ],\n",
              "       ...,\n",
              "       [0.47272727, 0.29896907, 0.4       , ..., 0.        , 0.        ,\n",
              "        0.        ],\n",
              "       [0.48484848, 0.29896907, 0.4       , ..., 0.        , 0.        ,\n",
              "        1.        ],\n",
              "       [0.48484848, 0.29896907, 0.4       , ..., 0.        , 0.        ,\n",
              "        1.        ]])"
            ]
          },
          "metadata": {
            "tags": []
          },
          "execution_count": 21
        }
      ]
    },
    {
      "metadata": {
        "id": "Xh9_CwQYjmuS",
        "colab_type": "code",
        "colab": {}
      },
      "cell_type": "code",
      "source": [
        "#pd.DataFrame(normalizedDF).plot()"
      ],
      "execution_count": 0,
      "outputs": []
    },
    {
      "metadata": {
        "id": "QaGhIzwmjmuU",
        "colab_type": "code",
        "colab": {}
      },
      "cell_type": "code",
      "source": [
        "# objective is to predict house price on the basis of \n",
        "# other variables like bedrom...... etc\n"
      ],
      "execution_count": 0,
      "outputs": []
    },
    {
      "metadata": {
        "id": "ydCCSAqljmuW",
        "colab_type": "code",
        "outputId": "03914730-ad36-4100-bf0c-3319fa7da334",
        "colab": {
          "base_uri": "https://localhost:8080/",
          "height": 204
        }
      },
      "cell_type": "code",
      "source": [
        "# Stage 4 : Data Mining\n",
        "# Since Dependent var is quantitative in nature \n",
        "# if dependendent var is quantitative use regrassion\n",
        "# if dependendent var is categorical use classification \n",
        "\n",
        "# Regression can be implemented using Ordinary Least Squares Method\n",
        "Y = df.price   # dependent var\n",
        "independent = df.columns\n",
        "independent = independent.delete(0)\n",
        "X=df[independent]\n",
        "X.head()\n"
      ],
      "execution_count": 0,
      "outputs": [
        {
          "output_type": "execute_result",
          "data": {
            "text/html": [
              "<div>\n",
              "<style scoped>\n",
              "    .dataframe tbody tr th:only-of-type {\n",
              "        vertical-align: middle;\n",
              "    }\n",
              "\n",
              "    .dataframe tbody tr th {\n",
              "        vertical-align: top;\n",
              "    }\n",
              "\n",
              "    .dataframe thead th {\n",
              "        text-align: right;\n",
              "    }\n",
              "</style>\n",
              "<table border=\"1\" class=\"dataframe\">\n",
              "  <thead>\n",
              "    <tr style=\"text-align: right;\">\n",
              "      <th></th>\n",
              "      <th>lotsize</th>\n",
              "      <th>bedrooms</th>\n",
              "      <th>bathrms</th>\n",
              "      <th>driveway</th>\n",
              "      <th>recroom</th>\n",
              "      <th>fullbase</th>\n",
              "      <th>gashw</th>\n",
              "      <th>airco</th>\n",
              "      <th>garagepl</th>\n",
              "      <th>prefarea</th>\n",
              "      <th>stories_four</th>\n",
              "      <th>stories_one</th>\n",
              "      <th>stories_three</th>\n",
              "      <th>stories_two</th>\n",
              "    </tr>\n",
              "  </thead>\n",
              "  <tbody>\n",
              "    <tr>\n",
              "      <th>0</th>\n",
              "      <td>5850</td>\n",
              "      <td>3</td>\n",
              "      <td>1</td>\n",
              "      <td>1</td>\n",
              "      <td>0</td>\n",
              "      <td>1</td>\n",
              "      <td>0</td>\n",
              "      <td>0</td>\n",
              "      <td>1</td>\n",
              "      <td>0</td>\n",
              "      <td>0</td>\n",
              "      <td>0</td>\n",
              "      <td>0</td>\n",
              "      <td>1</td>\n",
              "    </tr>\n",
              "    <tr>\n",
              "      <th>1</th>\n",
              "      <td>4000</td>\n",
              "      <td>2</td>\n",
              "      <td>1</td>\n",
              "      <td>1</td>\n",
              "      <td>0</td>\n",
              "      <td>0</td>\n",
              "      <td>0</td>\n",
              "      <td>0</td>\n",
              "      <td>0</td>\n",
              "      <td>0</td>\n",
              "      <td>0</td>\n",
              "      <td>1</td>\n",
              "      <td>0</td>\n",
              "      <td>0</td>\n",
              "    </tr>\n",
              "    <tr>\n",
              "      <th>2</th>\n",
              "      <td>3060</td>\n",
              "      <td>3</td>\n",
              "      <td>1</td>\n",
              "      <td>1</td>\n",
              "      <td>0</td>\n",
              "      <td>0</td>\n",
              "      <td>0</td>\n",
              "      <td>0</td>\n",
              "      <td>0</td>\n",
              "      <td>0</td>\n",
              "      <td>0</td>\n",
              "      <td>1</td>\n",
              "      <td>0</td>\n",
              "      <td>0</td>\n",
              "    </tr>\n",
              "    <tr>\n",
              "      <th>3</th>\n",
              "      <td>6650</td>\n",
              "      <td>3</td>\n",
              "      <td>1</td>\n",
              "      <td>1</td>\n",
              "      <td>1</td>\n",
              "      <td>0</td>\n",
              "      <td>0</td>\n",
              "      <td>0</td>\n",
              "      <td>0</td>\n",
              "      <td>0</td>\n",
              "      <td>0</td>\n",
              "      <td>0</td>\n",
              "      <td>0</td>\n",
              "      <td>1</td>\n",
              "    </tr>\n",
              "    <tr>\n",
              "      <th>4</th>\n",
              "      <td>6360</td>\n",
              "      <td>2</td>\n",
              "      <td>1</td>\n",
              "      <td>1</td>\n",
              "      <td>0</td>\n",
              "      <td>0</td>\n",
              "      <td>0</td>\n",
              "      <td>0</td>\n",
              "      <td>0</td>\n",
              "      <td>0</td>\n",
              "      <td>0</td>\n",
              "      <td>1</td>\n",
              "      <td>0</td>\n",
              "      <td>0</td>\n",
              "    </tr>\n",
              "  </tbody>\n",
              "</table>\n",
              "</div>"
            ],
            "text/plain": [
              "   lotsize  bedrooms  bathrms  driveway  recroom  fullbase  gashw  airco  \\\n",
              "0     5850         3        1         1        0         1      0      0   \n",
              "1     4000         2        1         1        0         0      0      0   \n",
              "2     3060         3        1         1        0         0      0      0   \n",
              "3     6650         3        1         1        1         0      0      0   \n",
              "4     6360         2        1         1        0         0      0      0   \n",
              "\n",
              "   garagepl  prefarea  stories_four  stories_one  stories_three  stories_two  \n",
              "0         1         0             0            0              0            1  \n",
              "1         0         0             0            1              0            0  \n",
              "2         0         0             0            1              0            0  \n",
              "3         0         0             0            0              0            1  \n",
              "4         0         0             0            1              0            0  "
            ]
          },
          "metadata": {
            "tags": []
          },
          "execution_count": 23
        }
      ]
    },
    {
      "metadata": {
        "id": "jO9ww-hWjmuZ",
        "colab_type": "code",
        "colab": {}
      },
      "cell_type": "code",
      "source": [
        "import statsmodels.api as sm\n",
        "ols = sm.OLS(Y,X)\n",
        "model = ols.fit()"
      ],
      "execution_count": 0,
      "outputs": []
    },
    {
      "metadata": {
        "id": "n7cACSpRjmua",
        "colab_type": "code",
        "outputId": "db0524c4-c85c-4ae9-96d3-a7d5915aacd5",
        "colab": {}
      },
      "cell_type": "code",
      "source": [
        "# Interpretation and Evalution\n",
        "model.summary()"
      ],
      "execution_count": 0,
      "outputs": [
        {
          "output_type": "execute_result",
          "data": {
            "text/html": [
              "<table class=\"simpletable\">\n",
              "<caption>OLS Regression Results</caption>\n",
              "<tr>\n",
              "  <th>Dep. Variable:</th>          <td>price</td>      <th>  R-squared:         </th> <td>   0.674</td> \n",
              "</tr>\n",
              "<tr>\n",
              "  <th>Model:</th>                   <td>OLS</td>       <th>  Adj. R-squared:    </th> <td>   0.666</td> \n",
              "</tr>\n",
              "<tr>\n",
              "  <th>Method:</th>             <td>Least Squares</td>  <th>  F-statistic:       </th> <td>   84.47</td> \n",
              "</tr>\n",
              "<tr>\n",
              "  <th>Date:</th>             <td>Mon, 07 Jan 2019</td> <th>  Prob (F-statistic):</th> <td>4.12e-120</td>\n",
              "</tr>\n",
              "<tr>\n",
              "  <th>Time:</th>                 <td>14:08:41</td>     <th>  Log-Likelihood:    </th> <td> -6033.7</td> \n",
              "</tr>\n",
              "<tr>\n",
              "  <th>No. Observations:</th>      <td>   546</td>      <th>  AIC:               </th> <td>1.210e+04</td>\n",
              "</tr>\n",
              "<tr>\n",
              "  <th>Df Residuals:</th>          <td>   532</td>      <th>  BIC:               </th> <td>1.216e+04</td>\n",
              "</tr>\n",
              "<tr>\n",
              "  <th>Df Model:</th>              <td>    13</td>      <th>                     </th>     <td> </td>    \n",
              "</tr>\n",
              "<tr>\n",
              "  <th>Covariance Type:</th>      <td>nonrobust</td>    <th>                     </th>     <td> </td>    \n",
              "</tr>\n",
              "</table>\n",
              "<table class=\"simpletable\">\n",
              "<tr>\n",
              "        <td></td>           <th>coef</th>     <th>std err</th>      <th>t</th>      <th>P>|t|</th>  <th>[0.025</th>    <th>0.975]</th>  \n",
              "</tr>\n",
              "<tr>\n",
              "  <th>lotsize</th>       <td>    3.4853</td> <td>    0.357</td> <td>    9.760</td> <td> 0.000</td> <td>    2.784</td> <td>    4.187</td>\n",
              "</tr>\n",
              "<tr>\n",
              "  <th>bedrooms</th>      <td> 2207.4007</td> <td> 1126.826</td> <td>    1.959</td> <td> 0.051</td> <td>   -6.174</td> <td> 4420.976</td>\n",
              "</tr>\n",
              "<tr>\n",
              "  <th>bathrms</th>       <td> 1.423e+04</td> <td> 1501.004</td> <td>    9.479</td> <td> 0.000</td> <td> 1.13e+04</td> <td> 1.72e+04</td>\n",
              "</tr>\n",
              "<tr>\n",
              "  <th>driveway</th>      <td> 6744.5906</td> <td> 2049.077</td> <td>    3.292</td> <td> 0.001</td> <td> 2719.317</td> <td> 1.08e+04</td>\n",
              "</tr>\n",
              "<tr>\n",
              "  <th>recroom</th>       <td> 4452.7280</td> <td> 1905.476</td> <td>    2.337</td> <td> 0.020</td> <td>  709.547</td> <td> 8195.909</td>\n",
              "</tr>\n",
              "<tr>\n",
              "  <th>fullbase</th>      <td> 5611.2079</td> <td> 1602.026</td> <td>    3.503</td> <td> 0.000</td> <td> 2464.134</td> <td> 8758.281</td>\n",
              "</tr>\n",
              "<tr>\n",
              "  <th>gashw</th>         <td> 1.298e+04</td> <td> 3244.074</td> <td>    4.002</td> <td> 0.000</td> <td> 6610.754</td> <td> 1.94e+04</td>\n",
              "</tr>\n",
              "<tr>\n",
              "  <th>airco</th>         <td> 1.246e+04</td> <td> 1568.474</td> <td>    7.944</td> <td> 0.000</td> <td> 9379.277</td> <td> 1.55e+04</td>\n",
              "</tr>\n",
              "<tr>\n",
              "  <th>garagepl</th>      <td> 4207.8472</td> <td>  847.752</td> <td>    4.964</td> <td> 0.000</td> <td> 2542.495</td> <td> 5873.200</td>\n",
              "</tr>\n",
              "<tr>\n",
              "  <th>prefarea</th>      <td> 9339.4245</td> <td> 1695.216</td> <td>    5.509</td> <td> 0.000</td> <td> 6009.286</td> <td> 1.27e+04</td>\n",
              "</tr>\n",
              "<tr>\n",
              "  <th>stories_four</th>  <td> 2.265e+04</td> <td> 5140.674</td> <td>    4.406</td> <td> 0.000</td> <td> 1.25e+04</td> <td> 3.27e+04</td>\n",
              "</tr>\n",
              "<tr>\n",
              "  <th>stories_one</th>   <td> 2381.0771</td> <td> 3517.544</td> <td>    0.677</td> <td> 0.499</td> <td>-4528.903</td> <td> 9291.057</td>\n",
              "</tr>\n",
              "<tr>\n",
              "  <th>stories_three</th> <td> 1.512e+04</td> <td> 4848.135</td> <td>    3.119</td> <td> 0.002</td> <td> 5596.507</td> <td> 2.46e+04</td>\n",
              "</tr>\n",
              "<tr>\n",
              "  <th>stories_two</th>   <td> 7666.2541</td> <td> 4153.290</td> <td>    1.846</td> <td> 0.065</td> <td> -492.606</td> <td> 1.58e+04</td>\n",
              "</tr>\n",
              "</table>\n",
              "<table class=\"simpletable\">\n",
              "<tr>\n",
              "  <th>Omnibus:</th>       <td>98.599</td> <th>  Durbin-Watson:     </th> <td>   1.603</td>\n",
              "</tr>\n",
              "<tr>\n",
              "  <th>Prob(Omnibus):</th> <td> 0.000</td> <th>  Jarque-Bera (JB):  </th> <td> 266.624</td>\n",
              "</tr>\n",
              "<tr>\n",
              "  <th>Skew:</th>          <td> 0.891</td> <th>  Prob(JB):          </th> <td>1.27e-58</td>\n",
              "</tr>\n",
              "<tr>\n",
              "  <th>Kurtosis:</th>      <td> 5.923</td> <th>  Cond. No.          </th> <td>7.07e+04</td>\n",
              "</tr>\n",
              "</table><br/><br/>Warnings:<br/>[1] Standard Errors assume that the covariance matrix of the errors is correctly specified.<br/>[2] The condition number is large, 7.07e+04. This might indicate that there are<br/>strong multicollinearity or other numerical problems."
            ],
            "text/plain": [
              "<class 'statsmodels.iolib.summary.Summary'>\n",
              "\"\"\"\n",
              "                            OLS Regression Results                            \n",
              "==============================================================================\n",
              "Dep. Variable:                  price   R-squared:                       0.674\n",
              "Model:                            OLS   Adj. R-squared:                  0.666\n",
              "Method:                 Least Squares   F-statistic:                     84.47\n",
              "Date:                Mon, 07 Jan 2019   Prob (F-statistic):          4.12e-120\n",
              "Time:                        14:08:41   Log-Likelihood:                -6033.7\n",
              "No. Observations:                 546   AIC:                         1.210e+04\n",
              "Df Residuals:                     532   BIC:                         1.216e+04\n",
              "Df Model:                          13                                         \n",
              "Covariance Type:            nonrobust                                         \n",
              "=================================================================================\n",
              "                    coef    std err          t      P>|t|      [0.025      0.975]\n",
              "---------------------------------------------------------------------------------\n",
              "lotsize           3.4853      0.357      9.760      0.000       2.784       4.187\n",
              "bedrooms       2207.4007   1126.826      1.959      0.051      -6.174    4420.976\n",
              "bathrms        1.423e+04   1501.004      9.479      0.000    1.13e+04    1.72e+04\n",
              "driveway       6744.5906   2049.077      3.292      0.001    2719.317    1.08e+04\n",
              "recroom        4452.7280   1905.476      2.337      0.020     709.547    8195.909\n",
              "fullbase       5611.2079   1602.026      3.503      0.000    2464.134    8758.281\n",
              "gashw          1.298e+04   3244.074      4.002      0.000    6610.754    1.94e+04\n",
              "airco          1.246e+04   1568.474      7.944      0.000    9379.277    1.55e+04\n",
              "garagepl       4207.8472    847.752      4.964      0.000    2542.495    5873.200\n",
              "prefarea       9339.4245   1695.216      5.509      0.000    6009.286    1.27e+04\n",
              "stories_four   2.265e+04   5140.674      4.406      0.000    1.25e+04    3.27e+04\n",
              "stories_one    2381.0771   3517.544      0.677      0.499   -4528.903    9291.057\n",
              "stories_three  1.512e+04   4848.135      3.119      0.002    5596.507    2.46e+04\n",
              "stories_two    7666.2541   4153.290      1.846      0.065    -492.606    1.58e+04\n",
              "==============================================================================\n",
              "Omnibus:                       98.599   Durbin-Watson:                   1.603\n",
              "Prob(Omnibus):                  0.000   Jarque-Bera (JB):              266.624\n",
              "Skew:                           0.891   Prob(JB):                     1.27e-58\n",
              "Kurtosis:                       5.923   Cond. No.                     7.07e+04\n",
              "==============================================================================\n",
              "\n",
              "Warnings:\n",
              "[1] Standard Errors assume that the covariance matrix of the errors is correctly specified.\n",
              "[2] The condition number is large, 7.07e+04. This might indicate that there are\n",
              "strong multicollinearity or other numerical problems.\n",
              "\"\"\""
            ]
          },
          "metadata": {
            "tags": []
          },
          "execution_count": 29
        }
      ]
    },
    {
      "metadata": {
        "id": "QwEA_65Jjmuc",
        "colab_type": "code",
        "outputId": "4258e5d2-cd68-4fe7-fec4-57aa78ad9471",
        "colab": {}
      },
      "cell_type": "code",
      "source": [
        "# Interpretation of Model: Ordinary least Squares\n",
        "Y_pred=model.predict(X)\n",
        "Y_pred\n",
        "\n",
        "# Graphically interpret Actual Prices Vs Predicted Prices\n",
        "df['predicted']=Y_pred\n",
        "df.head(3)\n",
        "\n",
        "# Plot the difference b/w actual vs predicted prices\n",
        "import matplotlib.pyplot as plt\n",
        "# Make a plot b?w actual, predicted prices vs lotsize\n",
        "plt.scatter(df['lotsize'],df['price'],color='green')\n",
        "plt.title('compare Actul and Predicted price for lotsize of house')\n",
        "plt.ylabel('price')\n",
        "plt.xlabel('lotsize')\n",
        "# Plot the predicted price by our OLS regreession eduation\n",
        "plt.scatter(df['lotsize'],df['predicted'],color='red')"
      ],
      "execution_count": 0,
      "outputs": [
        {
          "output_type": "execute_result",
          "data": {
            "text/plain": [
              "<matplotlib.collections.PathCollection at 0x11c3f8860>"
            ]
          },
          "metadata": {
            "tags": []
          },
          "execution_count": 30
        },
        {
          "output_type": "display_data",
          "data": {
            "image/png": "[encoded data removed]",
            "text/plain": [
              "<Figure size 432x288 with 1 Axes>"
            ]
          },
          "metadata": {
            "tags": [],
            "needs_background": "light"
          }
        }
      ]
    },
    {
      "metadata": {
        "id": "Pa3M_qvKjmuf",
        "colab_type": "code",
        "outputId": "61ea496b-46bf-4ab1-aa95-367cafecf27b",
        "colab": {}
      },
      "cell_type": "code",
      "source": [
        "#remove multicollinearityusing VIF >10\n",
        "from statsmodels.stats.outliers_influence import variance_inflation_factor as vif\n",
        "vif()"
      ],
      "execution_count": 0,
      "outputs": [
        {
          "output_type": "stream",
          "text": [
            "Object `vif()` not found.\n"
          ],
          "name": "stdout"
        }
      ]
    },
    {
      "metadata": {
        "id": "jlU00BAgjmug",
        "colab_type": "code",
        "colab": {}
      },
      "cell_type": "code",
      "source": [
        ""
      ],
      "execution_count": 0,
      "outputs": []
    },
    {
      "metadata": {
        "id": "WfqvSOG3jmui",
        "colab_type": "code",
        "colab": {}
      },
      "cell_type": "code",
      "source": [
        ""
      ],
      "execution_count": 0,
      "outputs": []
    }
  ]
}